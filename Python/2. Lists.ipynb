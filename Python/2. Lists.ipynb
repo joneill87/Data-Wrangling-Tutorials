{
 "cells": [
  {
   "cell_type": "markdown",
   "metadata": {},
   "source": [
    "# Python Lists\n",
    "\n",
    "Lists in Python allow us to store a bunch of values in a specific order. Each item in the list has an **index**, or position within that list. Because of the way programming languages developed we start counting from 0, rather than 1 when counting through the list. Because of this, python-lists are referred to as **zero-indexed**"
   ]
  },
  {
   "cell_type": "code",
   "execution_count": 1,
   "metadata": {},
   "outputs": [
    {
     "name": "stdout",
     "output_type": "stream",
     "text": [
      "I'd catch a grenade for ya\n",
      "I'd throw my hand on a blade for ya\n",
      "I'd jump in front of a train for ya\n",
      "I'd do anything for ya\n"
     ]
    }
   ],
   "source": [
    "things_id_do = ['catch a grenade', 'throw my hand on a blade', 'jump in front of a train', 'do anything']\n",
    "\n",
    "print(f\"I'd {things_id_do[0]} for you\")\n",
    "print(f\"I'd {things_id_do[1]} for you\")\n",
    "print(f\"I'd {things_id_do[2]} for you\")\n",
    "print(f\"I'd {things_id_do[3]} for you\")"
   ]
  },
  {
   "cell_type": "markdown",
   "metadata": {},
   "source": [
    "## Accessing Items by Index\n",
    "\n",
    "If we know the position of an item in a list we can access it using square bracket notation. Python also allows us to count backwards from the end of the list if we prefer. An index of -1 gives us the last item, -2 gives us the second last item *etc.*"
   ]
  },
  {
   "cell_type": "code",
   "execution_count": 2,
   "metadata": {},
   "outputs": [
    {
     "name": "stdout",
     "output_type": "stream",
     "text": [
      "Getting the last item with -1\n",
      "do anything\n",
      "Getting the second last item with -2\n",
      "jump in front of a train\n"
     ]
    }
   ],
   "source": [
    "print(\"Getting the last item with -1\")\n",
    "print(things_id_do[-1])\n",
    "\n",
    "print(\"Getting the second last item with -2\")\n",
    "print(things_id_do[-2])"
   ]
  },
  {
   "cell_type": "markdown",
   "metadata": {},
   "source": [
    "### List Slicing\n",
    "If we want to access multiple items we can use **list slicing**. l[x:y] gives us every item from index *x* (inclusive) to index *y* (exclusive)."
   ]
  },
  {
   "cell_type": "code",
   "execution_count": 3,
   "metadata": {},
   "outputs": [
    {
     "name": "stdout",
     "output_type": "stream",
     "text": [
      "Getting the second and third items with 1:3\n",
      "['throw my hand on a blade', 'jump in front of a train']\n",
      "Getting the first and second items with 0:2\n",
      "['catch a grenade', 'throw my hand on a blade']\n"
     ]
    }
   ],
   "source": [
    "print(\"Getting the second and third items with 1:3\")\n",
    "print(things_id_do[1:3]) # Gives us items 1 and 2\n",
    "\n",
    "print(\"Getting the first and second items with 0:2\")\n",
    "print(things_id_do[0:2]) # Gives us items 0 and 1"
   ]
  },
  {
   "cell_type": "markdown",
   "metadata": {},
   "source": [
    "We can get everything up to a specified index by leaving the left-hand-side of the colon blank."
   ]
  },
  {
   "cell_type": "code",
   "execution_count": 4,
   "metadata": {},
   "outputs": [
    {
     "name": "stdout",
     "output_type": "stream",
     "text": [
      "Getting the first two items with :2\n",
      "['catch a grenade', 'throw my hand on a blade']\n"
     ]
    }
   ],
   "source": [
    "print(\"Getting the first two items with :2\")\n",
    "print(things_id_do[:2]) # Gives us items 0 and 1"
   ]
  },
  {
   "cell_type": "markdown",
   "metadata": {},
   "source": [
    "We can get everything from a specified index up to the end by leaving the right-hand-side of the colon blank"
   ]
  },
  {
   "cell_type": "code",
   "execution_count": 5,
   "metadata": {},
   "outputs": [
    {
     "name": "stdout",
     "output_type": "stream",
     "text": [
      "Getting the last two items with -2:\n",
      "['jump in front of a train', 'do anything']\n"
     ]
    }
   ],
   "source": [
    "print(\"Getting the last two items with -2:\")\n",
    "print(things_id_do[-2:])"
   ]
  },
  {
   "cell_type": "markdown",
   "metadata": {},
   "source": [
    "We can get everything in a list by leaving both sides blank (this is essentially copying the list)"
   ]
  },
  {
   "cell_type": "code",
   "execution_count": 6,
   "metadata": {},
   "outputs": [
    {
     "name": "stdout",
     "output_type": "stream",
     "text": [
      "Getting everything with :\n",
      "['catch a grenade', 'throw my hand on a blade', 'jump in front of a train', 'do anything']\n"
     ]
    }
   ],
   "source": [
    "print(\"Getting everything with :\")\n",
    "print(things_id_do[:]) # returns everything (makes a copy of the list)"
   ]
  },
  {
   "cell_type": "markdown",
   "metadata": {},
   "source": [
    "## Looping through Lists\n",
    "\n",
    "Anyone coming from any of the C-based languages (C#, Java, C++ *etc.*) may be used to seeing code like this to loop through a list (or array)\n",
    "\n",
    "```C++\n",
    "// This is NOT PYTHON code!!!\n",
    "for (i=0; i<things_id_do.length; i++) {\n",
    "    print(\"I'd \" + things_id_do[i] + \" for you\")\n",
    "}\n",
    "```\n",
    "\n",
    "Don't worry if this isn't familiar, this is the last time I'm going to talk about these old-style for loops. In the loop above, we create a counter variable **i**, and we loop around and around increasing i by 1 each time. We can then use i to extract the next item from the list.\n",
    "\n",
    "This is kind of ugly, and makes for very lengthy code. Generally speaking, we avoid these kinds of constructions in Python. If we want to loop through a list in Python we use a much simpler syntax"
   ]
  },
  {
   "cell_type": "code",
   "execution_count": 7,
   "metadata": {},
   "outputs": [
    {
     "name": "stdout",
     "output_type": "stream",
     "text": [
      "I'd catch a grenade for ya\n",
      "I'd throw my hand on a blade for ya\n",
      "I'd jump in front of a train for ya\n",
      "I'd do anything for ya\n"
     ]
    }
   ],
   "source": [
    "for do_thing in things_id_do:\n",
    "    print(f\"I'd {do_thing} for you\")"
   ]
  },
  {
   "cell_type": "markdown",
   "metadata": {},
   "source": [
    "A python for loop doesn't use a counter. We get direct access to each item in the list. \n",
    "\n",
    "```python\n",
    "    for variable_name in list:\n",
    "        print(variable_name)\n",
    "```\n",
    "\n",
    "We can choose any variable name we like in a for loop, though it's best to make it descriptive."
   ]
  },
  {
   "cell_type": "markdown",
   "metadata": {},
   "source": [
    "We can create a list using a **list literal** (square bracket notation). We separate each of the values with a comma and put square brackets around the whole lot (you can see this in the first cell). The problem with this method is that we need to know every value at the time we create the list. If we want to create a list dynamically we can use the list **append()** method."
   ]
  },
  {
   "cell_type": "code",
   "execution_count": 8,
   "metadata": {},
   "outputs": [
    {
     "data": {
      "text/plain": [
       "[2, 4, 6, 8, 10, 12, 14, 16, 18, 20]"
      ]
     },
     "execution_count": 8,
     "metadata": {},
     "output_type": "execute_result"
    }
   ],
   "source": [
    "numbers = range(1, 21) # [1, 2, 3,...,19,20]\n",
    "evens = [] # create an empty list\n",
    "\n",
    "for number in numbers:\n",
    "    if number % 2 == 0:\n",
    "        evens.append(number)\n",
    "        \n",
    "evens"
   ]
  },
  {
   "cell_type": "markdown",
   "metadata": {},
   "source": [
    "The append() method inserts an item onto the end of the list. Sometimes you may want to insert an item into a specific position. The **insert()** method allows you to specify where you want to insert the item.\n",
    "\n",
    "```python\n",
    "l.insert(index, item)\n",
    "````\n",
    "\n",
    "The code above inserts *item* into list *l* at position *index*"
   ]
  },
  {
   "cell_type": "code",
   "execution_count": 9,
   "metadata": {},
   "outputs": [
    {
     "name": "stdout",
     "output_type": "stream",
     "text": [
      "Notes ['Do', 'Re', 'Fa', 'So', 'Ti']\n",
      "Inserting 'Mi' into position 2\n",
      "['Do', 'Re', 'Mi', 'Fa', 'So', 'Ti']\n",
      "Inserting 'La' into position 5\n",
      "['Do', 'Re', 'Mi', 'Fa', 'So', 'La', 'Ti']\n",
      "Inserting 'Do' into position 7\n"
     ]
    },
    {
     "data": {
      "text/plain": [
       "['Do', 'Re', 'Mi', 'Fa', 'So', 'La', 'Ti', 'Do']"
      ]
     },
     "execution_count": 9,
     "metadata": {},
     "output_type": "execute_result"
    }
   ],
   "source": [
    "notes = [\"Do\", \"Re\", \"Fa\", \"So\", \"Ti\"]\n",
    "\n",
    "print(f\"Notes {notes}\")\n",
    "print(\"Inserting 'Mi' into position 2\")\n",
    "notes.insert(2, \"Mi\")\n",
    "print(notes)\n",
    "notes.insert(5, \"La\")\n",
    "print(\"Inserting 'La' into position 5\")\n",
    "print(notes)\n",
    "print(\"Inserting 'Do' into position 7\")\n",
    "notes.insert(7, \"Do\")\n",
    "notes"
   ]
  },
  {
   "cell_type": "markdown",
   "metadata": {},
   "source": [
    "## Removing list Items\n",
    "\n",
    "We can remove an item from a list using the **remove()** method. We pass the value we want to delete from the list to the remove() method, which then looks through the list and deletes the **first occurrence** of that value. If the value doesn't exist we get an error. It's always best to check before removing an item"
   ]
  },
  {
   "cell_type": "code",
   "execution_count": 10,
   "metadata": {},
   "outputs": [
    {
     "name": "stdout",
     "output_type": "stream",
     "text": [
      "Removing 'Mi'\n",
      "['Do', 'Re', 'Fa', 'So', 'La', 'Ti', 'Do']\n",
      "Removing 'Do'\n",
      "['Re', 'Fa', 'So', 'La', 'Ti', 'Do']\n",
      "Removing 'Do' again\n",
      "['Re', 'Fa', 'So', 'La', 'Ti']\n",
      "Checking if 'Do' is in list\n",
      "Not found in list\n",
      "Removing 'A Deer'\n"
     ]
    },
    {
     "ename": "ValueError",
     "evalue": "list.remove(x): x not in list",
     "output_type": "error",
     "traceback": [
      "\u001b[0;31m---------------------------------------------------------------------------\u001b[0m",
      "\u001b[0;31mValueError\u001b[0m                                Traceback (most recent call last)",
      "\u001b[0;32m<ipython-input-10-56951a3f551e>\u001b[0m in \u001b[0;36m<module>\u001b[0;34m\u001b[0m\n\u001b[1;32m     22\u001b[0m \u001b[0;34m\u001b[0m\u001b[0m\n\u001b[1;32m     23\u001b[0m \u001b[0mprint\u001b[0m\u001b[0;34m(\u001b[0m\u001b[0;34m\"Removing 'A Deer'\"\u001b[0m\u001b[0;34m)\u001b[0m\u001b[0;34m\u001b[0m\u001b[0;34m\u001b[0m\u001b[0m\n\u001b[0;32m---> 24\u001b[0;31m \u001b[0mnotes\u001b[0m\u001b[0;34m.\u001b[0m\u001b[0mremove\u001b[0m\u001b[0;34m(\u001b[0m\u001b[0;34m'A Deer'\u001b[0m\u001b[0;34m)\u001b[0m\u001b[0;34m\u001b[0m\u001b[0;34m\u001b[0m\u001b[0m\n\u001b[0m",
      "\u001b[0;31mValueError\u001b[0m: list.remove(x): x not in list"
     ]
    }
   ],
   "source": [
    "notes = ['Do', 'Re', 'Mi', 'Fa', 'So', 'La', 'Ti', 'Do']\n",
    "\n",
    "print(\"Removing 'Mi'\")\n",
    "notes.remove('Mi')\n",
    "print(notes)\n",
    "print(\"Removing 'Do'\")\n",
    "notes.remove('Do')\n",
    "print(notes)\n",
    "\n",
    "# the last occurrence of 'Do' is still in the list\n",
    "print(\"Removing 'Do' again\")\n",
    "notes.remove('Do')\n",
    "print(notes)\n",
    "\n",
    "# We can check if an item exists before removing it\n",
    "print(\"Checking if 'Do' is in list\")\n",
    "if 'Do' in notes:\n",
    "    print('Found Do')\n",
    "    notes.remove('Do')\n",
    "else:\n",
    "    print('Not found in list')\n",
    "\n",
    "print(\"Removing 'A Deer'\")\n",
    "notes.remove('A Deer')"
   ]
  },
  {
   "cell_type": "markdown",
   "metadata": {},
   "source": [
    "## List Comprehensions\n",
    "\n",
    "List comprehensions are a very *Pythonic* way of defining lists. A list comprehension is a short-hand way of defining lists which is quite similar to writing a loop. They can look a little tricky at first but you'll soon get used to them"
   ]
  },
  {
   "cell_type": "code",
   "execution_count": 11,
   "metadata": {},
   "outputs": [
    {
     "name": "stdout",
     "output_type": "stream",
     "text": [
      "[2, 4, 6]\n"
     ]
    }
   ],
   "source": [
    "odds = [1, 3, 5]\n",
    "evens = [x + 1 for x in odds]\n",
    "print(evens)"
   ]
  },
  {
   "cell_type": "markdown",
   "metadata": {},
   "source": [
    "The code above loops through the *odds* array and adds 1 to each value. You may have noticed that this is very similar to the syntax for a python **for loop**. We can re-write this code using a loop though it's much less readable"
   ]
  },
  {
   "cell_type": "code",
   "execution_count": 14,
   "metadata": {},
   "outputs": [
    {
     "data": {
      "text/plain": [
       "[2, 4, 6]"
      ]
     },
     "execution_count": 14,
     "metadata": {},
     "output_type": "execute_result"
    }
   ],
   "source": [
    "odds = [1, 3, 5]\n",
    "evens = []\n",
    "for x in odds:\n",
    "    evens.append(x + 1)\n",
    "evens"
   ]
  },
  {
   "cell_type": "markdown",
   "metadata": {},
   "source": [
    "Here's another example using the double() function from earlier"
   ]
  },
  {
   "cell_type": "code",
   "execution_count": 15,
   "metadata": {},
   "outputs": [
    {
     "name": "stdout",
     "output_type": "stream",
     "text": [
      "[0, 2, 4, 6, 8, 10, 12, 14, 16, 18, 20]\n"
     ]
    }
   ],
   "source": [
    "def double(number):\n",
    "    return number * 2\n",
    "\n",
    "numbers = range(0, 11)\n",
    "doubles = [double(x) for x in numbers]\n",
    "print(doubles)"
   ]
  },
  {
   "cell_type": "markdown",
   "metadata": {},
   "source": [
    "## Sorting Lists\n",
    "\n",
    "We can use the **sort()** method to sort a list. In the example below we are using the **random** module to generate a list of random numbers, which we then sort.\n",
    "\n",
    "Python only provides limited functionality out of the box. Most of the good stuff is hidden away in modules. If we want to use functions from a module we need to make sure we import that module at the top of our script. Many modules need to be installed using *pip* but the random module is installed along with Python by default"
   ]
  },
  {
   "cell_type": "code",
   "execution_count": 16,
   "metadata": {},
   "outputs": [
    {
     "name": "stdout",
     "output_type": "stream",
     "text": [
      "List of random numbers\n",
      "[26, 16, 25, 12, 9, 14, 18, 20, 6, 1, 30, 23, 17, 6, 18, 19, 20, 19, 21, 30, 2, 20, 24, 6, 0, 24, 14, 10, 16, 7, 11, 3, 2, 12, 21, 1, 3, 21, 26, 26, 29, 26, 24, 26, 20, 22, 12, 1, 28, 10, 2, 30, 10, 28, 16, 10, 10, 21, 12, 23, 30, 28, 12, 12, 23, 27, 14, 27, 3, 12, 28, 18, 23, 17, 16, 17, 25, 3, 24, 7, 0, 5, 18, 1, 9, 13, 6, 6, 27, 17, 29, 16, 11, 9, 29, 28, 14, 0, 29, 20]\n",
      "Sorting random numbers\n",
      "[0, 0, 0, 1, 1, 1, 1, 2, 2, 2, 3, 3, 3, 3, 5, 6, 6, 6, 6, 6, 7, 7, 9, 9, 9, 10, 10, 10, 10, 10, 11, 11, 12, 12, 12, 12, 12, 12, 12, 13, 14, 14, 14, 14, 16, 16, 16, 16, 16, 17, 17, 17, 17, 18, 18, 18, 18, 19, 19, 20, 20, 20, 20, 20, 21, 21, 21, 21, 22, 23, 23, 23, 23, 24, 24, 24, 24, 25, 25, 26, 26, 26, 26, 26, 27, 27, 27, 28, 28, 28, 28, 28, 29, 29, 29, 29, 30, 30, 30, 30]\n"
     ]
    }
   ],
   "source": [
    "import random\n",
    "\n",
    "random.randint(0, 30) # returns a random number between 0 and 30 (inclusive)\n",
    "\n",
    "randoms = [random.randint(0, 30) for x in range(0, 100)] # generates a list of 100 random numbers between 0 and 30\n",
    "\n",
    "print(\"List of random numbers\")\n",
    "print(randoms)\n",
    "\n",
    "print(\"Sorting random numbers\")\n",
    "randoms.sort()\n",
    "print(randoms)\n"
   ]
  },
  {
   "cell_type": "markdown",
   "metadata": {},
   "source": [
    "## Combining Lists"
   ]
  },
  {
   "cell_type": "code",
   "execution_count": 17,
   "metadata": {},
   "outputs": [
    {
     "ename": "IndexError",
     "evalue": "list index out of range",
     "output_type": "error",
     "traceback": [
      "\u001b[0;31m---------------------------------------------------------------------------\u001b[0m",
      "\u001b[0;31mIndexError\u001b[0m                                Traceback (most recent call last)",
      "\u001b[0;32m<ipython-input-17-9c5624592aa1>\u001b[0m in \u001b[0;36m<module>\u001b[0;34m\u001b[0m\n\u001b[1;32m      4\u001b[0m \u001b[0mall_modules\u001b[0m \u001b[0;34m=\u001b[0m \u001b[0mfirst_semester_modules\u001b[0m\u001b[0;34m[\u001b[0m\u001b[0;34m:\u001b[0m\u001b[0;34m]\u001b[0m \u001b[0;31m# make a copy of the first_semester_modules_list\u001b[0m\u001b[0;34m\u001b[0m\u001b[0;34m\u001b[0m\u001b[0m\n\u001b[1;32m      5\u001b[0m \u001b[0mall_modules\u001b[0m\u001b[0;34m.\u001b[0m\u001b[0mappend\u001b[0m\u001b[0;34m(\u001b[0m\u001b[0msecond_semester_modules\u001b[0m\u001b[0;34m)\u001b[0m\u001b[0;34m\u001b[0m\u001b[0;34m\u001b[0m\u001b[0m\n\u001b[0;32m----> 6\u001b[0;31m \u001b[0mall_modules\u001b[0m\u001b[0;34m[\u001b[0m\u001b[0;36m4\u001b[0m\u001b[0;34m]\u001b[0m\u001b[0;34m\u001b[0m\u001b[0;34m\u001b[0m\u001b[0m\n\u001b[0m",
      "\u001b[0;31mIndexError\u001b[0m: list index out of range"
     ]
    }
   ],
   "source": [
    "first_semester_modules = ['Working with Data', 'Probability and Statistical Inference', 'Data Mining']\n",
    "second_semester_modules = ['Machine Learning', 'Data Visualization']\n",
    "\n",
    "all_modules = first_semester_modules[:] # make a copy of the first_semester_modules_list\n",
    "all_modules.append(second_semester_modules)\n",
    "all_modules[4]"
   ]
  },
  {
   "cell_type": "markdown",
   "metadata": {},
   "source": [
    "In the code above we tried to combine first_semester_modules and second_semester_modules into a single list. However, when we tried to access the 5th element we got an error saying *list index out of range*. What happened? Let's take a look at the first_semester_modules list"
   ]
  },
  {
   "cell_type": "code",
   "execution_count": 18,
   "metadata": {},
   "outputs": [
    {
     "name": "stdout",
     "output_type": "stream",
     "text": [
      "['Working with Data', 'Probability and Statistical Inference', 'Data Mining', ['Machine Learning', 'Data Visualization']]\n"
     ]
    }
   ],
   "source": [
    "print(all_modules)"
   ]
  },
  {
   "cell_type": "markdown",
   "metadata": {},
   "source": [
    "Notice the extra set of sqaure brackets at the end. Let's take a closer look at the last item in the list"
   ]
  },
  {
   "cell_type": "code",
   "execution_count": 19,
   "metadata": {},
   "outputs": [
    {
     "name": "stdout",
     "output_type": "stream",
     "text": [
      "getting the last element of all_modules\n",
      "['Machine Learning', 'Data Visualization']\n"
     ]
    }
   ],
   "source": [
    "print('getting the last element of all_modules')\n",
    "\n",
    "# Get the last element of the list\n",
    "print(all_modules[-1])"
   ]
  },
  {
   "cell_type": "markdown",
   "metadata": {},
   "source": [
    "The last element of all_modules is a list. We've added the second semester modules directly to the list when what we really wanted to do was add each module separately. Combining two lists into a single list like this is known as **concatenation**. Python allows us to do this using the **+** operator."
   ]
  },
  {
   "cell_type": "code",
   "execution_count": 20,
   "metadata": {},
   "outputs": [
    {
     "name": "stdout",
     "output_type": "stream",
     "text": [
      "Machine Learning\n",
      "Data Visualization\n",
      "['Working with Data', 'Probability and Statistical Inference', 'Data Mining', 'Machine Learning', 'Data Visualization']\n"
     ]
    }
   ],
   "source": [
    "all_modules = first_semester_modules + second_semester_modules\n",
    "print(all_modules[3])\n",
    "print(all_modules[4])\n",
    "print(all_modules)\n"
   ]
  },
  {
   "cell_type": "markdown",
   "metadata": {},
   "source": [
    "The + operator **joins two lists together**"
   ]
  }
 ],
 "metadata": {
  "kernelspec": {
   "display_name": "Python 3",
   "language": "python",
   "name": "python3"
  },
  "language_info": {
   "codemirror_mode": {
    "name": "ipython",
    "version": 3
   },
   "file_extension": ".py",
   "mimetype": "text/x-python",
   "name": "python",
   "nbconvert_exporter": "python",
   "pygments_lexer": "ipython3",
   "version": "3.9.5"
  }
 },
 "nbformat": 4,
 "nbformat_minor": 4
}
